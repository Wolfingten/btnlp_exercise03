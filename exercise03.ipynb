{
 "cells": [
  {
   "cell_type": "code",
   "execution_count": 3,
   "metadata": {},
   "outputs": [
    {
     "data": {
      "text/plain": [
       "0.8461607416404733"
      ]
     },
     "execution_count": 3,
     "metadata": {},
     "output_type": "execute_result"
    }
   ],
   "source": [
    "from sklearn.datasets import fetch_20newsgroups\n",
    "from sklearn.feature_extraction.text import TfidfVectorizer\n",
    "from sklearn.naive_bayes import MultinomialNB\n",
    "from sklearn import metrics\n",
    "\n",
    "cats = [\"sci.crypt\", \"sci.electronics\", \"sci.med\", \"sci.space\"]\n",
    "\n",
    "newsgroups_train = fetch_20newsgroups(subset=\"train\", remove=('headers', 'footers', 'quotes'), categories=cats)\n",
    "newsgroups_test = fetch_20newsgroups(subset=\"test\", remove=('headers', 'footers', 'quotes'), categories=cats)\n",
    "\n",
    "vectorizer = TfidfVectorizer()\n",
    "vecs_train = vectorizer.fit_transform(newsgroups_train.data)\n",
    "vecs_test = vectorizer.transform(newsgroups_test.data)\n",
    "\n",
    "clf = MultinomialNB(alpha=.01)\n",
    "clf.fit(vecs_train, newsgroups_train.target)\n",
    "\n",
    "pred = clf.predict(vecs_test)\n",
    "metrics.f1_score(newsgroups_test.target, pred, average=\"macro\")"
   ]
  }
 ],
 "metadata": {
  "kernelspec": {
   "display_name": "ML",
   "language": "python",
   "name": "python3"
  },
  "language_info": {
   "codemirror_mode": {
    "name": "ipython",
    "version": 3
   },
   "file_extension": ".py",
   "mimetype": "text/x-python",
   "name": "python",
   "nbconvert_exporter": "python",
   "pygments_lexer": "ipython3",
   "version": "3.11.2"
  }
 },
 "nbformat": 4,
 "nbformat_minor": 2
}
